{
  "nbformat": 4,
  "nbformat_minor": 0,
  "metadata": {
    "colab": {
      "provenance": [],
      "include_colab_link": true
    },
    "kernelspec": {
      "name": "python3",
      "display_name": "Python 3"
    },
    "language_info": {
      "name": "python"
    }
  },
  "cells": [
    {
      "cell_type": "markdown",
      "metadata": {
        "id": "view-in-github",
        "colab_type": "text"
      },
      "source": [
        "<a href=\"https://colab.research.google.com/github/ReyhaneTaj/Data-prepation/blob/main/Titanic.ipynb\" target=\"_parent\"><img src=\"https://colab.research.google.com/assets/colab-badge.svg\" alt=\"Open In Colab\"/></a>"
      ]
    },
    {
      "cell_type": "markdown",
      "source": [
        "# (F) Some general comments on doing classification:\n",
        "\n",
        "* In addition to the points we write in the outline, please consider the following points:\n",
        "* Read the problem carefully; Understand what you are supposed to do. Sometimes, you are not supposed to classify from all the data, but you should only consider a subset of data which makes the task easier. (Just imagine you are allowed to remove some of the class 1 or 0)\n",
        "\n",
        "* When doing hyperparameter tuning in step 8, you can consider randomized search and grid search. Try to focus on some special hyper parameter.\n",
        "\n",
        "* Respecting the agile methodology, start from the simplest assumption and models, you will make them better later.\n",
        "\n",
        "* In handling categorical variables, consider advantage and disadvantage of label encoding or one hot encoding. one hot encoding may leads to curse of dimensionality, and label encoding is not good all the time.\n",
        "\n",
        "* Watch out data leakage all the time. You should ask yourself, which features do I have access to at the time of prediction. There might be some features that are highly correlated with your target but is not available at the time of prediction.\n",
        "\n",
        "* When dealing with Nans, try to think about their meanings. They can be real missing values or they can have a meaning (for example they can be zero, or the fact that we don't have them, has a special meaning such as they don't exist, but not missing.)\n",
        "\n",
        "* In general know about the meaning of over-fitting and under-fitting and in doing any ML task, consider it to avoid these two (especially overfitting).\n",
        "\n",
        "\n"
      ],
      "metadata": {
        "id": "ACxOctujGG98"
      }
    },
    {
      "cell_type": "markdown",
      "source": [
        "# Titanic Survival Prediction\n",
        "\n",
        "The aime is to build a ML algorithem to predict whether a person from the titanic disaster survived or not.\n",
        "\n",
        "input: ID\n",
        "Output: Surviving state.\n",
        "\n",
        "## Outline:\n",
        "\n",
        "1. **Applying Dummy Classifier**\n",
        "2. **Data Exploration**\n",
        "3. **Feature Selection**\n",
        "4. **Handling Missing Values**\n",
        "5. **Feature Engineering**\n",
        "6. **Handling Categorical Features**\n",
        "7. **Applying Three Different Methods**\n",
        "9. **Fine-tuning the Models**\n",
        "10. **Summary and Conclusion**"
      ],
      "metadata": {
        "id": "At_GNNvb9mtQ"
      }
    },
    {
      "cell_type": "code",
      "source": [
        "import pandas as pd\n",
        "\n",
        "# Load the dataset\n",
        "df = pd.read_csv('train.csv')\n",
        "\n",
        "df"
      ],
      "metadata": {
        "id": "DTl0HVQtLS3e",
        "colab": {
          "base_uri": "https://localhost:8080/",
          "height": 666
        },
        "outputId": "4179932a-147f-4fcf-9cc3-33dc226f782a"
      },
      "execution_count": null,
      "outputs": [
        {
          "output_type": "execute_result",
          "data": {
            "text/plain": [
              "     PassengerId  Survived  Pclass  \\\n",
              "0              1         0       3   \n",
              "1              2         1       1   \n",
              "2              3         1       3   \n",
              "3              4         1       1   \n",
              "4              5         0       3   \n",
              "..           ...       ...     ...   \n",
              "886          887         0       2   \n",
              "887          888         1       1   \n",
              "888          889         0       3   \n",
              "889          890         1       1   \n",
              "890          891         0       3   \n",
              "\n",
              "                                                  Name     Sex   Age  SibSp  \\\n",
              "0                              Braund, Mr. Owen Harris    male  22.0      1   \n",
              "1    Cumings, Mrs. John Bradley (Florence Briggs Th...  female  38.0      1   \n",
              "2                               Heikkinen, Miss. Laina  female  26.0      0   \n",
              "3         Futrelle, Mrs. Jacques Heath (Lily May Peel)  female  35.0      1   \n",
              "4                             Allen, Mr. William Henry    male  35.0      0   \n",
              "..                                                 ...     ...   ...    ...   \n",
              "886                              Montvila, Rev. Juozas    male  27.0      0   \n",
              "887                       Graham, Miss. Margaret Edith  female  19.0      0   \n",
              "888           Johnston, Miss. Catherine Helen \"Carrie\"  female   NaN      1   \n",
              "889                              Behr, Mr. Karl Howell    male  26.0      0   \n",
              "890                                Dooley, Mr. Patrick    male  32.0      0   \n",
              "\n",
              "     Parch            Ticket     Fare Cabin Embarked  \n",
              "0        0         A/5 21171   7.2500   NaN        S  \n",
              "1        0          PC 17599  71.2833   C85        C  \n",
              "2        0  STON/O2. 3101282   7.9250   NaN        S  \n",
              "3        0            113803  53.1000  C123        S  \n",
              "4        0            373450   8.0500   NaN        S  \n",
              "..     ...               ...      ...   ...      ...  \n",
              "886      0            211536  13.0000   NaN        S  \n",
              "887      0            112053  30.0000   B42        S  \n",
              "888      2        W./C. 6607  23.4500   NaN        S  \n",
              "889      0            111369  30.0000  C148        C  \n",
              "890      0            370376   7.7500   NaN        Q  \n",
              "\n",
              "[891 rows x 12 columns]"
            ],
            "text/html": [
              "\n",
              "  <div id=\"df-1027fe48-03ea-4351-9ed0-92be54763ef7\" class=\"colab-df-container\">\n",
              "    <div>\n",
              "<style scoped>\n",
              "    .dataframe tbody tr th:only-of-type {\n",
              "        vertical-align: middle;\n",
              "    }\n",
              "\n",
              "    .dataframe tbody tr th {\n",
              "        vertical-align: top;\n",
              "    }\n",
              "\n",
              "    .dataframe thead th {\n",
              "        text-align: right;\n",
              "    }\n",
              "</style>\n",
              "<table border=\"1\" class=\"dataframe\">\n",
              "  <thead>\n",
              "    <tr style=\"text-align: right;\">\n",
              "      <th></th>\n",
              "      <th>PassengerId</th>\n",
              "      <th>Survived</th>\n",
              "      <th>Pclass</th>\n",
              "      <th>Name</th>\n",
              "      <th>Sex</th>\n",
              "      <th>Age</th>\n",
              "      <th>SibSp</th>\n",
              "      <th>Parch</th>\n",
              "      <th>Ticket</th>\n",
              "      <th>Fare</th>\n",
              "      <th>Cabin</th>\n",
              "      <th>Embarked</th>\n",
              "    </tr>\n",
              "  </thead>\n",
              "  <tbody>\n",
              "    <tr>\n",
              "      <th>0</th>\n",
              "      <td>1</td>\n",
              "      <td>0</td>\n",
              "      <td>3</td>\n",
              "      <td>Braund, Mr. Owen Harris</td>\n",
              "      <td>male</td>\n",
              "      <td>22.0</td>\n",
              "      <td>1</td>\n",
              "      <td>0</td>\n",
              "      <td>A/5 21171</td>\n",
              "      <td>7.2500</td>\n",
              "      <td>NaN</td>\n",
              "      <td>S</td>\n",
              "    </tr>\n",
              "    <tr>\n",
              "      <th>1</th>\n",
              "      <td>2</td>\n",
              "      <td>1</td>\n",
              "      <td>1</td>\n",
              "      <td>Cumings, Mrs. John Bradley (Florence Briggs Th...</td>\n",
              "      <td>female</td>\n",
              "      <td>38.0</td>\n",
              "      <td>1</td>\n",
              "      <td>0</td>\n",
              "      <td>PC 17599</td>\n",
              "      <td>71.2833</td>\n",
              "      <td>C85</td>\n",
              "      <td>C</td>\n",
              "    </tr>\n",
              "    <tr>\n",
              "      <th>2</th>\n",
              "      <td>3</td>\n",
              "      <td>1</td>\n",
              "      <td>3</td>\n",
              "      <td>Heikkinen, Miss. Laina</td>\n",
              "      <td>female</td>\n",
              "      <td>26.0</td>\n",
              "      <td>0</td>\n",
              "      <td>0</td>\n",
              "      <td>STON/O2. 3101282</td>\n",
              "      <td>7.9250</td>\n",
              "      <td>NaN</td>\n",
              "      <td>S</td>\n",
              "    </tr>\n",
              "    <tr>\n",
              "      <th>3</th>\n",
              "      <td>4</td>\n",
              "      <td>1</td>\n",
              "      <td>1</td>\n",
              "      <td>Futrelle, Mrs. Jacques Heath (Lily May Peel)</td>\n",
              "      <td>female</td>\n",
              "      <td>35.0</td>\n",
              "      <td>1</td>\n",
              "      <td>0</td>\n",
              "      <td>113803</td>\n",
              "      <td>53.1000</td>\n",
              "      <td>C123</td>\n",
              "      <td>S</td>\n",
              "    </tr>\n",
              "    <tr>\n",
              "      <th>4</th>\n",
              "      <td>5</td>\n",
              "      <td>0</td>\n",
              "      <td>3</td>\n",
              "      <td>Allen, Mr. William Henry</td>\n",
              "      <td>male</td>\n",
              "      <td>35.0</td>\n",
              "      <td>0</td>\n",
              "      <td>0</td>\n",
              "      <td>373450</td>\n",
              "      <td>8.0500</td>\n",
              "      <td>NaN</td>\n",
              "      <td>S</td>\n",
              "    </tr>\n",
              "    <tr>\n",
              "      <th>...</th>\n",
              "      <td>...</td>\n",
              "      <td>...</td>\n",
              "      <td>...</td>\n",
              "      <td>...</td>\n",
              "      <td>...</td>\n",
              "      <td>...</td>\n",
              "      <td>...</td>\n",
              "      <td>...</td>\n",
              "      <td>...</td>\n",
              "      <td>...</td>\n",
              "      <td>...</td>\n",
              "      <td>...</td>\n",
              "    </tr>\n",
              "    <tr>\n",
              "      <th>886</th>\n",
              "      <td>887</td>\n",
              "      <td>0</td>\n",
              "      <td>2</td>\n",
              "      <td>Montvila, Rev. Juozas</td>\n",
              "      <td>male</td>\n",
              "      <td>27.0</td>\n",
              "      <td>0</td>\n",
              "      <td>0</td>\n",
              "      <td>211536</td>\n",
              "      <td>13.0000</td>\n",
              "      <td>NaN</td>\n",
              "      <td>S</td>\n",
              "    </tr>\n",
              "    <tr>\n",
              "      <th>887</th>\n",
              "      <td>888</td>\n",
              "      <td>1</td>\n",
              "      <td>1</td>\n",
              "      <td>Graham, Miss. Margaret Edith</td>\n",
              "      <td>female</td>\n",
              "      <td>19.0</td>\n",
              "      <td>0</td>\n",
              "      <td>0</td>\n",
              "      <td>112053</td>\n",
              "      <td>30.0000</td>\n",
              "      <td>B42</td>\n",
              "      <td>S</td>\n",
              "    </tr>\n",
              "    <tr>\n",
              "      <th>888</th>\n",
              "      <td>889</td>\n",
              "      <td>0</td>\n",
              "      <td>3</td>\n",
              "      <td>Johnston, Miss. Catherine Helen \"Carrie\"</td>\n",
              "      <td>female</td>\n",
              "      <td>NaN</td>\n",
              "      <td>1</td>\n",
              "      <td>2</td>\n",
              "      <td>W./C. 6607</td>\n",
              "      <td>23.4500</td>\n",
              "      <td>NaN</td>\n",
              "      <td>S</td>\n",
              "    </tr>\n",
              "    <tr>\n",
              "      <th>889</th>\n",
              "      <td>890</td>\n",
              "      <td>1</td>\n",
              "      <td>1</td>\n",
              "      <td>Behr, Mr. Karl Howell</td>\n",
              "      <td>male</td>\n",
              "      <td>26.0</td>\n",
              "      <td>0</td>\n",
              "      <td>0</td>\n",
              "      <td>111369</td>\n",
              "      <td>30.0000</td>\n",
              "      <td>C148</td>\n",
              "      <td>C</td>\n",
              "    </tr>\n",
              "    <tr>\n",
              "      <th>890</th>\n",
              "      <td>891</td>\n",
              "      <td>0</td>\n",
              "      <td>3</td>\n",
              "      <td>Dooley, Mr. Patrick</td>\n",
              "      <td>male</td>\n",
              "      <td>32.0</td>\n",
              "      <td>0</td>\n",
              "      <td>0</td>\n",
              "      <td>370376</td>\n",
              "      <td>7.7500</td>\n",
              "      <td>NaN</td>\n",
              "      <td>Q</td>\n",
              "    </tr>\n",
              "  </tbody>\n",
              "</table>\n",
              "<p>891 rows × 12 columns</p>\n",
              "</div>\n",
              "    <div class=\"colab-df-buttons\">\n",
              "\n",
              "  <div class=\"colab-df-container\">\n",
              "    <button class=\"colab-df-convert\" onclick=\"convertToInteractive('df-1027fe48-03ea-4351-9ed0-92be54763ef7')\"\n",
              "            title=\"Convert this dataframe to an interactive table.\"\n",
              "            style=\"display:none;\">\n",
              "\n",
              "  <svg xmlns=\"http://www.w3.org/2000/svg\" height=\"24px\" viewBox=\"0 -960 960 960\">\n",
              "    <path d=\"M120-120v-720h720v720H120Zm60-500h600v-160H180v160Zm220 220h160v-160H400v160Zm0 220h160v-160H400v160ZM180-400h160v-160H180v160Zm440 0h160v-160H620v160ZM180-180h160v-160H180v160Zm440 0h160v-160H620v160Z\"/>\n",
              "  </svg>\n",
              "    </button>\n",
              "\n",
              "  <style>\n",
              "    .colab-df-container {\n",
              "      display:flex;\n",
              "      gap: 12px;\n",
              "    }\n",
              "\n",
              "    .colab-df-convert {\n",
              "      background-color: #E8F0FE;\n",
              "      border: none;\n",
              "      border-radius: 50%;\n",
              "      cursor: pointer;\n",
              "      display: none;\n",
              "      fill: #1967D2;\n",
              "      height: 32px;\n",
              "      padding: 0 0 0 0;\n",
              "      width: 32px;\n",
              "    }\n",
              "\n",
              "    .colab-df-convert:hover {\n",
              "      background-color: #E2EBFA;\n",
              "      box-shadow: 0px 1px 2px rgba(60, 64, 67, 0.3), 0px 1px 3px 1px rgba(60, 64, 67, 0.15);\n",
              "      fill: #174EA6;\n",
              "    }\n",
              "\n",
              "    .colab-df-buttons div {\n",
              "      margin-bottom: 4px;\n",
              "    }\n",
              "\n",
              "    [theme=dark] .colab-df-convert {\n",
              "      background-color: #3B4455;\n",
              "      fill: #D2E3FC;\n",
              "    }\n",
              "\n",
              "    [theme=dark] .colab-df-convert:hover {\n",
              "      background-color: #434B5C;\n",
              "      box-shadow: 0px 1px 3px 1px rgba(0, 0, 0, 0.15);\n",
              "      filter: drop-shadow(0px 1px 2px rgba(0, 0, 0, 0.3));\n",
              "      fill: #FFFFFF;\n",
              "    }\n",
              "  </style>\n",
              "\n",
              "    <script>\n",
              "      const buttonEl =\n",
              "        document.querySelector('#df-1027fe48-03ea-4351-9ed0-92be54763ef7 button.colab-df-convert');\n",
              "      buttonEl.style.display =\n",
              "        google.colab.kernel.accessAllowed ? 'block' : 'none';\n",
              "\n",
              "      async function convertToInteractive(key) {\n",
              "        const element = document.querySelector('#df-1027fe48-03ea-4351-9ed0-92be54763ef7');\n",
              "        const dataTable =\n",
              "          await google.colab.kernel.invokeFunction('convertToInteractive',\n",
              "                                                    [key], {});\n",
              "        if (!dataTable) return;\n",
              "\n",
              "        const docLinkHtml = 'Like what you see? Visit the ' +\n",
              "          '<a target=\"_blank\" href=https://colab.research.google.com/notebooks/data_table.ipynb>data table notebook</a>'\n",
              "          + ' to learn more about interactive tables.';\n",
              "        element.innerHTML = '';\n",
              "        dataTable['output_type'] = 'display_data';\n",
              "        await google.colab.output.renderOutput(dataTable, element);\n",
              "        const docLink = document.createElement('div');\n",
              "        docLink.innerHTML = docLinkHtml;\n",
              "        element.appendChild(docLink);\n",
              "      }\n",
              "    </script>\n",
              "  </div>\n",
              "\n",
              "\n",
              "<div id=\"df-1c2a0e58-b5a4-49b8-85eb-01b73807dc73\">\n",
              "  <button class=\"colab-df-quickchart\" onclick=\"quickchart('df-1c2a0e58-b5a4-49b8-85eb-01b73807dc73')\"\n",
              "            title=\"Suggest charts\"\n",
              "            style=\"display:none;\">\n",
              "\n",
              "<svg xmlns=\"http://www.w3.org/2000/svg\" height=\"24px\"viewBox=\"0 0 24 24\"\n",
              "     width=\"24px\">\n",
              "    <g>\n",
              "        <path d=\"M19 3H5c-1.1 0-2 .9-2 2v14c0 1.1.9 2 2 2h14c1.1 0 2-.9 2-2V5c0-1.1-.9-2-2-2zM9 17H7v-7h2v7zm4 0h-2V7h2v10zm4 0h-2v-4h2v4z\"/>\n",
              "    </g>\n",
              "</svg>\n",
              "  </button>\n",
              "\n",
              "<style>\n",
              "  .colab-df-quickchart {\n",
              "      --bg-color: #E8F0FE;\n",
              "      --fill-color: #1967D2;\n",
              "      --hover-bg-color: #E2EBFA;\n",
              "      --hover-fill-color: #174EA6;\n",
              "      --disabled-fill-color: #AAA;\n",
              "      --disabled-bg-color: #DDD;\n",
              "  }\n",
              "\n",
              "  [theme=dark] .colab-df-quickchart {\n",
              "      --bg-color: #3B4455;\n",
              "      --fill-color: #D2E3FC;\n",
              "      --hover-bg-color: #434B5C;\n",
              "      --hover-fill-color: #FFFFFF;\n",
              "      --disabled-bg-color: #3B4455;\n",
              "      --disabled-fill-color: #666;\n",
              "  }\n",
              "\n",
              "  .colab-df-quickchart {\n",
              "    background-color: var(--bg-color);\n",
              "    border: none;\n",
              "    border-radius: 50%;\n",
              "    cursor: pointer;\n",
              "    display: none;\n",
              "    fill: var(--fill-color);\n",
              "    height: 32px;\n",
              "    padding: 0;\n",
              "    width: 32px;\n",
              "  }\n",
              "\n",
              "  .colab-df-quickchart:hover {\n",
              "    background-color: var(--hover-bg-color);\n",
              "    box-shadow: 0 1px 2px rgba(60, 64, 67, 0.3), 0 1px 3px 1px rgba(60, 64, 67, 0.15);\n",
              "    fill: var(--button-hover-fill-color);\n",
              "  }\n",
              "\n",
              "  .colab-df-quickchart-complete:disabled,\n",
              "  .colab-df-quickchart-complete:disabled:hover {\n",
              "    background-color: var(--disabled-bg-color);\n",
              "    fill: var(--disabled-fill-color);\n",
              "    box-shadow: none;\n",
              "  }\n",
              "\n",
              "  .colab-df-spinner {\n",
              "    border: 2px solid var(--fill-color);\n",
              "    border-color: transparent;\n",
              "    border-bottom-color: var(--fill-color);\n",
              "    animation:\n",
              "      spin 1s steps(1) infinite;\n",
              "  }\n",
              "\n",
              "  @keyframes spin {\n",
              "    0% {\n",
              "      border-color: transparent;\n",
              "      border-bottom-color: var(--fill-color);\n",
              "      border-left-color: var(--fill-color);\n",
              "    }\n",
              "    20% {\n",
              "      border-color: transparent;\n",
              "      border-left-color: var(--fill-color);\n",
              "      border-top-color: var(--fill-color);\n",
              "    }\n",
              "    30% {\n",
              "      border-color: transparent;\n",
              "      border-left-color: var(--fill-color);\n",
              "      border-top-color: var(--fill-color);\n",
              "      border-right-color: var(--fill-color);\n",
              "    }\n",
              "    40% {\n",
              "      border-color: transparent;\n",
              "      border-right-color: var(--fill-color);\n",
              "      border-top-color: var(--fill-color);\n",
              "    }\n",
              "    60% {\n",
              "      border-color: transparent;\n",
              "      border-right-color: var(--fill-color);\n",
              "    }\n",
              "    80% {\n",
              "      border-color: transparent;\n",
              "      border-right-color: var(--fill-color);\n",
              "      border-bottom-color: var(--fill-color);\n",
              "    }\n",
              "    90% {\n",
              "      border-color: transparent;\n",
              "      border-bottom-color: var(--fill-color);\n",
              "    }\n",
              "  }\n",
              "</style>\n",
              "\n",
              "  <script>\n",
              "    async function quickchart(key) {\n",
              "      const quickchartButtonEl =\n",
              "        document.querySelector('#' + key + ' button');\n",
              "      quickchartButtonEl.disabled = true;  // To prevent multiple clicks.\n",
              "      quickchartButtonEl.classList.add('colab-df-spinner');\n",
              "      try {\n",
              "        const charts = await google.colab.kernel.invokeFunction(\n",
              "            'suggestCharts', [key], {});\n",
              "      } catch (error) {\n",
              "        console.error('Error during call to suggestCharts:', error);\n",
              "      }\n",
              "      quickchartButtonEl.classList.remove('colab-df-spinner');\n",
              "      quickchartButtonEl.classList.add('colab-df-quickchart-complete');\n",
              "    }\n",
              "    (() => {\n",
              "      let quickchartButtonEl =\n",
              "        document.querySelector('#df-1c2a0e58-b5a4-49b8-85eb-01b73807dc73 button');\n",
              "      quickchartButtonEl.style.display =\n",
              "        google.colab.kernel.accessAllowed ? 'block' : 'none';\n",
              "    })();\n",
              "  </script>\n",
              "</div>\n",
              "    </div>\n",
              "  </div>\n"
            ],
            "application/vnd.google.colaboratory.intrinsic+json": {
              "type": "dataframe",
              "variable_name": "df",
              "summary": "{\n  \"name\": \"df\",\n  \"rows\": 891,\n  \"fields\": [\n    {\n      \"column\": \"PassengerId\",\n      \"properties\": {\n        \"dtype\": \"number\",\n        \"std\": 257,\n        \"min\": 1,\n        \"max\": 891,\n        \"num_unique_values\": 891,\n        \"samples\": [\n          710,\n          440,\n          841\n        ],\n        \"semantic_type\": \"\",\n        \"description\": \"\"\n      }\n    },\n    {\n      \"column\": \"Survived\",\n      \"properties\": {\n        \"dtype\": \"number\",\n        \"std\": 0,\n        \"min\": 0,\n        \"max\": 1,\n        \"num_unique_values\": 2,\n        \"samples\": [\n          1,\n          0\n        ],\n        \"semantic_type\": \"\",\n        \"description\": \"\"\n      }\n    },\n    {\n      \"column\": \"Pclass\",\n      \"properties\": {\n        \"dtype\": \"number\",\n        \"std\": 0,\n        \"min\": 1,\n        \"max\": 3,\n        \"num_unique_values\": 3,\n        \"samples\": [\n          3,\n          1\n        ],\n        \"semantic_type\": \"\",\n        \"description\": \"\"\n      }\n    },\n    {\n      \"column\": \"Name\",\n      \"properties\": {\n        \"dtype\": \"string\",\n        \"num_unique_values\": 891,\n        \"samples\": [\n          \"Moubarek, Master. Halim Gonios (\\\"William George\\\")\",\n          \"Kvillner, Mr. Johan Henrik Johannesson\"\n        ],\n        \"semantic_type\": \"\",\n        \"description\": \"\"\n      }\n    },\n    {\n      \"column\": \"Sex\",\n      \"properties\": {\n        \"dtype\": \"category\",\n        \"num_unique_values\": 2,\n        \"samples\": [\n          \"female\",\n          \"male\"\n        ],\n        \"semantic_type\": \"\",\n        \"description\": \"\"\n      }\n    },\n    {\n      \"column\": \"Age\",\n      \"properties\": {\n        \"dtype\": \"number\",\n        \"std\": 14.526497332334042,\n        \"min\": 0.42,\n        \"max\": 80.0,\n        \"num_unique_values\": 88,\n        \"samples\": [\n          0.75,\n          22.0\n        ],\n        \"semantic_type\": \"\",\n        \"description\": \"\"\n      }\n    },\n    {\n      \"column\": \"SibSp\",\n      \"properties\": {\n        \"dtype\": \"number\",\n        \"std\": 1,\n        \"min\": 0,\n        \"max\": 8,\n        \"num_unique_values\": 7,\n        \"samples\": [\n          1,\n          0\n        ],\n        \"semantic_type\": \"\",\n        \"description\": \"\"\n      }\n    },\n    {\n      \"column\": \"Parch\",\n      \"properties\": {\n        \"dtype\": \"number\",\n        \"std\": 0,\n        \"min\": 0,\n        \"max\": 6,\n        \"num_unique_values\": 7,\n        \"samples\": [\n          0,\n          1\n        ],\n        \"semantic_type\": \"\",\n        \"description\": \"\"\n      }\n    },\n    {\n      \"column\": \"Ticket\",\n      \"properties\": {\n        \"dtype\": \"string\",\n        \"num_unique_values\": 681,\n        \"samples\": [\n          \"11774\",\n          \"248740\"\n        ],\n        \"semantic_type\": \"\",\n        \"description\": \"\"\n      }\n    },\n    {\n      \"column\": \"Fare\",\n      \"properties\": {\n        \"dtype\": \"number\",\n        \"std\": 49.6934285971809,\n        \"min\": 0.0,\n        \"max\": 512.3292,\n        \"num_unique_values\": 248,\n        \"samples\": [\n          11.2417,\n          51.8625\n        ],\n        \"semantic_type\": \"\",\n        \"description\": \"\"\n      }\n    },\n    {\n      \"column\": \"Cabin\",\n      \"properties\": {\n        \"dtype\": \"category\",\n        \"num_unique_values\": 147,\n        \"samples\": [\n          \"D45\",\n          \"B49\"\n        ],\n        \"semantic_type\": \"\",\n        \"description\": \"\"\n      }\n    },\n    {\n      \"column\": \"Embarked\",\n      \"properties\": {\n        \"dtype\": \"category\",\n        \"num_unique_values\": 3,\n        \"samples\": [\n          \"S\",\n          \"C\"\n        ],\n        \"semantic_type\": \"\",\n        \"description\": \"\"\n      }\n    }\n  ]\n}"
            }
          },
          "metadata": {},
          "execution_count": 15
        }
      ]
    },
    {
      "cell_type": "markdown",
      "source": [
        "1.**Applying Dummy Classifier**\n",
        "\n",
        "A \"dummy classifier\" is a simple baseline classifier used in machine learning tasks for comparison with more sophisticated models.\n",
        "\n",
        "Using a Dummy Classifier is particularly helpful when we have imbalanced classes or want to understand whether your model is learning meaningful patterns from the data beyond what might be learned by chance. It provides a point of reference for interpreting the performance of your actual model."
      ],
      "metadata": {
        "id": "tWxiNVeDQZNn"
      }
    },
    {
      "cell_type": "code",
      "source": [
        "## 1. Applying Dummy Classifier\n",
        "\n",
        "import numpy as np\n",
        "import pandas as pd\n",
        "from sklearn.model_selection import train_test_split\n",
        "from sklearn.dummy import DummyClassifier\n",
        "from sklearn.metrics import accuracy_score\n",
        "from sklearn.preprocessing import LabelEncoder\n",
        "\n",
        "#First lets take a quick look at the data set information\n",
        "df = pd.read_csv('train.csv')\n",
        "\n",
        "# To Define X and y\n",
        "X = df.drop(['Survived'], axis = 1)\n",
        "y = df['Survived']\n",
        "\n",
        "#Split the X and y to train and test\n",
        "X_train, X_test, y_train, y_test = train_test_split(X, y)\n",
        "\n",
        "#Apply dummy classifier\n",
        "model = DummyClassifier(strategy = \"most_frequent\")\n",
        "model.fit(X_train, y_train)\n",
        "\n",
        "y_prediction = model.predict(X_test)\n",
        "\n",
        "\n",
        "accuracy = accuracy_score(y_prediction, y_test)\n",
        "\n"
      ],
      "metadata": {
        "id": "O530UhuNt8j-"
      },
      "execution_count": null,
      "outputs": []
    },
    {
      "cell_type": "markdown",
      "source": [
        "2. **Data Exploration**\n",
        "\n",
        "Data exploration is an essential step in any data analysis process. It involves understanding the structure, content, and characteristics of the dataset to gain insights and inform subsequent analysis decisions.\n",
        "\n",
        "The first step in data exploration is to gain an understanding of the content of each column in the dataset. This includes identifying the types of data present, exploring unique values, and understanding the distribution of values within each column.\n",
        "\n"
      ],
      "metadata": {
        "id": "smYEThdB5fPb"
      }
    },
    {
      "cell_type": "code",
      "source": [
        "#Number of missing values of each collumn\n",
        "\n",
        "missing_values_count = df.isnull().sum()\n",
        "\n",
        "# Print the number of missing values in each column\n",
        "print(\"Number of missing values in each column:\")\n",
        "print(missing_values_count)"
      ],
      "metadata": {
        "id": "JpMElIWGJJFQ",
        "colab": {
          "base_uri": "https://localhost:8080/"
        },
        "outputId": "1afdaa5a-316e-4d0b-f2da-3de7e64f4426"
      },
      "execution_count": null,
      "outputs": [
        {
          "output_type": "stream",
          "name": "stdout",
          "text": [
            "Number of missing values in each column:\n",
            "PassengerId      0\n",
            "Survived         0\n",
            "Pclass           0\n",
            "Name             0\n",
            "Sex              0\n",
            "Age            177\n",
            "SibSp            0\n",
            "Parch            0\n",
            "Ticket           0\n",
            "Fare             0\n",
            "Cabin          687\n",
            "Embarked         2\n",
            "dtype: int64\n"
          ]
        }
      ]
    },
    {
      "cell_type": "markdown",
      "source": [
        "So there are 177 missing *values* in 'Age' column and its better to replace them with an average number."
      ],
      "metadata": {
        "id": "FyMAFfBMcmZp"
      }
    },
    {
      "cell_type": "code",
      "source": [
        "# Display basic information about the dataset\n",
        "print(\"Basic Information about the Dataset:\")\n",
        "print(df.info())"
      ],
      "metadata": {
        "id": "OPhskbswu4-Z",
        "colab": {
          "base_uri": "https://localhost:8080/"
        },
        "outputId": "2dd3468f-3784-45cc-8cab-81e2c2bf41ed"
      },
      "execution_count": null,
      "outputs": [
        {
          "output_type": "stream",
          "name": "stdout",
          "text": [
            "Basic Information about the Dataset:\n",
            "<class 'pandas.core.frame.DataFrame'>\n",
            "RangeIndex: 891 entries, 0 to 890\n",
            "Data columns (total 12 columns):\n",
            " #   Column       Non-Null Count  Dtype  \n",
            "---  ------       --------------  -----  \n",
            " 0   PassengerId  891 non-null    int64  \n",
            " 1   Survived     891 non-null    int64  \n",
            " 2   Pclass       891 non-null    int64  \n",
            " 3   Name         891 non-null    object \n",
            " 4   Sex          891 non-null    object \n",
            " 5   Age          714 non-null    float64\n",
            " 6   SibSp        891 non-null    int64  \n",
            " 7   Parch        891 non-null    int64  \n",
            " 8   Ticket       891 non-null    object \n",
            " 9   Fare         891 non-null    float64\n",
            " 10  Cabin        204 non-null    object \n",
            " 11  Embarked     889 non-null    object \n",
            "dtypes: float64(2), int64(5), object(5)\n",
            "memory usage: 83.7+ KB\n",
            "None\n"
          ]
        }
      ]
    },
    {
      "cell_type": "code",
      "source": [
        "# Display summary statistics for numerical columns\n",
        "print(\"\\nSummary Statistics for Numerical Columns:\")\n",
        "print(df.describe())"
      ],
      "metadata": {
        "id": "MsBloKnHxBQz",
        "colab": {
          "base_uri": "https://localhost:8080/"
        },
        "outputId": "6ba8f0d8-25d1-4439-f565-cf7a3fd0e6df"
      },
      "execution_count": null,
      "outputs": [
        {
          "output_type": "stream",
          "name": "stdout",
          "text": [
            "\n",
            "Summary Statistics for Numerical Columns:\n",
            "       PassengerId    Survived      Pclass         Age       SibSp  \\\n",
            "count   891.000000  891.000000  891.000000  714.000000  891.000000   \n",
            "mean    446.000000    0.383838    2.308642   29.699118    0.523008   \n",
            "std     257.353842    0.486592    0.836071   14.526497    1.102743   \n",
            "min       1.000000    0.000000    1.000000    0.420000    0.000000   \n",
            "25%     223.500000    0.000000    2.000000   20.125000    0.000000   \n",
            "50%     446.000000    0.000000    3.000000   28.000000    0.000000   \n",
            "75%     668.500000    1.000000    3.000000   38.000000    1.000000   \n",
            "max     891.000000    1.000000    3.000000   80.000000    8.000000   \n",
            "\n",
            "            Parch        Fare  \n",
            "count  891.000000  891.000000  \n",
            "mean     0.381594   32.204208  \n",
            "std      0.806057   49.693429  \n",
            "min      0.000000    0.000000  \n",
            "25%      0.000000    7.910400  \n",
            "50%      0.000000   14.454200  \n",
            "75%      0.000000   31.000000  \n",
            "max      6.000000  512.329200  \n"
          ]
        }
      ]
    },
    {
      "cell_type": "code",
      "source": [
        "# Display unique values and their counts for desierd column\n",
        "\n",
        "N_Pclass = df['Pclass'].value_counts()\n",
        "\n",
        "print(\"\\nUnique Values for 'Pclass' Columns:\")\n",
        "print(N_Pclass)"
      ],
      "metadata": {
        "id": "k9e8k11MxJId",
        "colab": {
          "base_uri": "https://localhost:8080/"
        },
        "outputId": "5b329939-2c63-4c3c-e557-31f490e7f6c3"
      },
      "execution_count": null,
      "outputs": [
        {
          "output_type": "stream",
          "name": "stdout",
          "text": [
            "\n",
            "Unique Values for 'Pclass' Columns:\n",
            "Pclass\n",
            "3    491\n",
            "1    216\n",
            "2    184\n",
            "Name: count, dtype: int64\n"
          ]
        }
      ]
    },
    {
      "source": [
        "# To visualize the relationship between 'Sex' and 'Survived' in the Titanic dataset, I create a bar plot or a count plot.\n",
        "\n",
        "import seaborn as sns\n",
        "import matplotlib.pyplot as plt\n",
        "\n",
        "# Set the style of the seaborn plot\n",
        "sns.set(style=\"whitegrid\")\n",
        "\n",
        "# Create a count plot\n",
        "plt.figure(figsize=(8, 6))\n",
        "sns.countplot(data=df, x='Sex', hue='Survived', palette='pastel')\n",
        "plt.title('Survival Count by Sex')\n",
        "plt.xlabel('Sex')\n",
        "plt.ylabel('Count')\n",
        "plt.xticks(ticks=[0, 1], labels=['Female', 'Male'])  # Set the labels for x-axis ticks\n",
        "plt.legend(title='Survived', labels=['No', 'Yes'])  # Add legend with labels\n",
        "plt.show()"
      ],
      "cell_type": "code",
      "execution_count": null,
      "outputs": [
        {
          "output_type": "display_data",
          "data": {
            "text/plain": [
              "<Figure size 800x600 with 1 Axes>"
            ],
            "image/png": "[encoded data removed]"
          },
          "metadata": {}
        }
      ],
      "metadata": {
        "id": "rhp7pUZlLeca",
        "colab": {
          "base_uri": "https://localhost:8080/",
          "height": 573
        },
        "outputId": "9ecd9324-523b-4546-cf51-8a0e320afc6a"
      }
    },
    {
      "cell_type": "markdown",
      "source": [
        "**Visualising** the distribution of the target can be another step into better understanding of Data.\n",
        "\n",
        "I plot a histogram and Pie plot of the 'Survived' column with two bins (0 and 1) representing the two classes."
      ],
      "metadata": {
        "id": "0S5kQccXwy-5"
      }
    },
    {
      "cell_type": "code",
      "source": [
        "import matplotlib.pyplot as plt\n",
        "\n",
        "# Assuming 'y' contains the target variable\n",
        "y = df['Survived']\n",
        "\n",
        "# Plot the distribution\n",
        "plt.hist(y, bins=2, color='pink', edgecolor='purple')\n",
        "plt.xlabel('Survived')\n",
        "plt.ylabel('Frequency')\n",
        "plt.title('Distribution of Survived')\n",
        "plt.xticks([0, 1])\n",
        "plt.show()"
      ],
      "metadata": {
        "id": "hizxkfpT5_H9",
        "colab": {
          "base_uri": "https://localhost:8080/",
          "height": 480
        },
        "outputId": "c4e3573e-4d61-4b41-d91a-ba6fc43c4c22"
      },
      "execution_count": null,
      "outputs": [
        {
          "output_type": "display_data",
          "data": {
            "text/plain": [
              "<Figure size 640x480 with 1 Axes>"
            ],
            "image/png": "[encoded data removed]"
          },
          "metadata": {}
        }
      ]
    },
    {
      "cell_type": "code",
      "source": [
        "import matplotlib.pyplot as plt\n",
        "\n",
        "# Assuming 'y' contains the target variable\n",
        "y = df['Survived']\n",
        "\n",
        "# Plot the distribution\n",
        "plt.pie(y.value_counts(), labels=['Not Survived', 'Survived'], colors= ['lightblue', 'pink'], startangle=90)\n",
        "plt.axis('equal')  # Equal aspect ratio ensures that pie is drawn as a circle.\n",
        "plt.title('Distribution of Survived')\n",
        "plt.show()"
      ],
      "metadata": {
        "id": "s-A7dBiBlufB",
        "colab": {
          "base_uri": "https://localhost:8080/",
          "height": 428
        },
        "outputId": "2ea7425a-dd8e-48ef-dc7c-166a31a84487"
      },
      "execution_count": null,
      "outputs": [
        {
          "output_type": "display_data",
          "data": {
            "text/plain": [
              "<Figure size 640x480 with 1 Axes>"
            ],
            "image/png": "[encoded data removed]"
          },
          "metadata": {}
        }
      ]
    },
    {
      "cell_type": "markdown",
      "source": [],
      "metadata": {
        "id": "QtegfGBGsS1J"
      }
    },
    {
      "cell_type": "markdown",
      "source": [
        "3. **Feature Selection**\n",
        "\n",
        "Feature selection is the process of selecting a subset of relevant features from the dataset to build a model.\n",
        "\n",
        "Selecting the right features is crucial for building a robust and accurate machine learning model. By removing irrelevant or redundant features, we can simplify the model, reduce the risk of overfitting, and improve its interpretability. Additionally, feature selection can lead to faster training times and better generalization to unseen data.\n",
        "\n",
        "Feature selection can be an iterative process, often occurring throughout various stages of the data analysis and model building pipeline. However, in the case of datasets with a well-defined target variable and a moderate number of features like the Titanic dataset, such iterative refinement may not always be necessary. Given the dataset's relatively small size and structured nature, simple feature selection techniques, such as examining feature importance from a single model or considering domain knowledge, may suffice to identify the most relevant features. For instance, in the Titanic dataset, which contains a manageable number of features and a clear target variable (survival), feature selection can typically be performed using methods such as examining feature importances from a Random Forest or other tree-based models, or by considering domain knowledge to select the most relevant features. However, it's always a good practice to evaluate your model's performance and assess the impact of different feature subsets on model accuracy. While an iterative feature selection process may not be required for this particular dataset, it's important to adapt your approach based on the characteristics of the data and the goals of your analysis.\n",
        "\n",
        "Moreover, it's crucial to consider the relationship between the number of features and the model's complexity, especially when employing logistic regression. Logistic regression models assume a linear relationship between the features and the log-odds of the target variable. Therefore, as the number of features increases, the model's complexity may also increase, potentially leading to overfitting.\n",
        "\n",
        "Very intuitivly I decided to keep some features like \"PassengerId, SibSp, Age, Pclass, Sex, Fare, Parch\" and to and I used the correlation matrix (corr()), which is one way to realize the importance of features. It helps to identify linear relationships between features and the target variable. However, it's essential to note that correlation doesn't capture nonlinear relationships and might miss important features that are correlated in a nonlinear manner with the target variable.\n",
        "\n",
        "As the corr() gives the correlation between nummerical features and we have at least an important categorical featuer like'Sex', I must change it to numeric form in the main dataset."
      ],
      "metadata": {
        "id": "OAX1thzORyWp"
      }
    },
    {
      "cell_type": "code",
      "source": [
        "#Remove the unimportant features\n",
        "df_N = df.drop(['Name', 'Ticket', 'Cabin','Embarked'], axis = 1)\n",
        "\n",
        "# To change the Categorical Features to Numerical.\n",
        "label_encoder = LabelEncoder()\n",
        "df_N['Sex'] = label_encoder.fit_transform(df_N['Sex'])\n",
        "\n",
        "# Calculate the correlation matrix\n",
        "correlation_matrix = df_N.corr()\n",
        "\n",
        "# Print correlation of features with the target variable\n",
        "print(\"Correlation with target variable (Survived):\")\n",
        "print(correlation_matrix['Survived'].sort_values(ascending=False))"
      ],
      "metadata": {
        "id": "7bPk8jg7ce3u",
        "colab": {
          "base_uri": "https://localhost:8080/"
        },
        "outputId": "13748a14-eff7-4a06-c439-f2837057a815"
      },
      "execution_count": null,
      "outputs": [
        {
          "output_type": "stream",
          "name": "stdout",
          "text": [
            "Correlation with target variable (Survived):\n",
            "Survived       1.000000\n",
            "Fare           0.257307\n",
            "Parch          0.081629\n",
            "PassengerId   -0.005007\n",
            "SibSp         -0.035322\n",
            "Age           -0.077221\n",
            "Pclass        -0.338481\n",
            "Sex           -0.543351\n",
            "Name: Survived, dtype: float64\n"
          ]
        }
      ]
    },
    {
      "cell_type": "markdown",
      "source": [
        "<div class=\"alert alert-block alert-info\">\n",
        "<b>Title:</b> Applying Three Different Models on Titanic Dataset\n",
        "</div>\n",
        "\n",
        "<div class=\"alert alert-block alert-info\">\n",
        "<b>Description:</b>\n",
        "\n",
        "This Colab notebook demonstrates the application of three different machine learning models—Logistic Regression, Decision Tree, and Random Forest—on the Titanic dataset to predict passenger survival. The Titanic dataset is a classic dataset used for machine learning and contains information about passengers' demographics and whether they survived the disaster.\n",
        "\n",
        "<b>Key Steps:</b>\n",
        "1. **Loading the Dataset:** The notebook loads the Titanic dataset from a CSV file using the Pandas library.\n",
        "2. **Removing Unimportant Features:** It selects relevant features, including 'Sex', 'Pclass', 'Age', 'Fare', 'SibSp', 'Parch', and the target variable 'Survived', from the dataset.\n",
        "3. **Handling Missing Values(Imputation):** The missing values in the 'Age' feature are imputed using the median value of the training data. Imputation helps to deal with missing values without discarding valuable data or introducing bias.\n",
        "4. **Encoding Categorical Features:** The categorical feature 'Sex' is encoded into numeric form using label encoding to prepare it for modeling.\n",
        "5. **Feature Engineering:** Two new features are created: 'FamSize', which represents the total family size by summing 'SibSp' and 'Parch', and 'Alon', which indicates whether the passenger is traveling alone or with family.\n",
        "6. **Splitting the Data:** The dataset is split into training and testing sets using the train_test_split function from scikit-learn.\n",
        "7. **Model Selection and Fitting:** Three different classifiers—Logistic Regression, Decision Tree, and Random Forest—are initialized and fitted to the training data.\n",
        "8. **Model Evaluation:** Predictions are made using each model on the test set, and the accuracy of each model is calculated using the accuracy_score function from scikit-learn. The accuracy of each model is printed to the console.\n",
        "\n",
        "**Dependencies:**\n",
        "- Python 3.x\n",
        "- NumPy\n",
        "- Pandas\n",
        "- scikit-learn\n",
        "\n",
        "\n",
        "**Author:**\n",
        "[Reyhaneh Taj]\n",
        "\n",
        "**Date:**\n",
        "[04.04.2024]\n",
        "</div>\n"
      ],
      "metadata": {
        "id": "bUi2temOnIZ7"
      }
    },
    {
      "cell_type": "code",
      "execution_count": null,
      "metadata": {
        "id": "ji0Co9jta5W_",
        "colab": {
          "base_uri": "https://localhost:8080/"
        },
        "outputId": "2cb6d27a-437f-4db8-c032-5d440d7d6030"
      },
      "outputs": [
        {
          "output_type": "stream",
          "name": "stdout",
          "text": [
            "Accuracy of Logistic Regression: 0.7988826815642458\n",
            "Accuracy of Decision Tree: 0.7541899441340782\n",
            "Accuracy of Random Forest: 0.8044692737430168\n"
          ]
        }
      ],
      "source": [
        "import numpy as np\n",
        "import pandas as pd\n",
        "from sklearn.model_selection import train_test_split\n",
        "from sklearn.linear_model import LogisticRegression\n",
        "from sklearn.tree import DecisionTreeClassifier\n",
        "from sklearn.ensemble import RandomForestClassifier\n",
        "from sklearn.impute import SimpleImputer\n",
        "from sklearn.metrics import accuracy_score\n",
        "from sklearn.preprocessing import LabelEncoder\n",
        "\n",
        "# Load the dataset\n",
        "df = pd.read_csv('train.csv')\n",
        "\n",
        "# Remove the unimportant features\n",
        "df = df[['Sex', 'Pclass', 'Age', 'Fare', 'SibSp', 'Parch', 'Survived']]\n",
        "\n",
        "# Change the Categorical Features to Numeric form\n",
        "label_encoder = LabelEncoder()\n",
        "df['Sex'] = label_encoder.fit_transform(df['Sex'])\n",
        "\n",
        "# Create a new feature 'FamSize' by summing 'SibSp' and 'Parch'\n",
        "df['FamSize'] = df['SibSp'] + df['Parch']\n",
        "\n",
        "# Create 'Alon' feature indicating whether the passenger is alone or not\n",
        "df['Alon'] = 0\n",
        "df.loc[df['FamSize'] > 1, 'Alon'] = 1\n",
        "\n",
        "# Remove the combined columns\n",
        "df = df.drop(['SibSp', 'Parch'], axis=1)\n",
        "\n",
        "# Split the data into features (X) and target variable (y)\n",
        "X = df.drop(['Survived'], axis=1)\n",
        "y = df['Survived']\n",
        "\n",
        "# Split the data into training and testing sets\n",
        "X_train, X_test, y_train, y_test = train_test_split(X, y, test_size=0.2, random_state=42)\n",
        "\n",
        "# Replace missing values for all features using SimpleImputer\n",
        "imputer = SimpleImputer(strategy='median')\n",
        "imputer.fit(X_train)\n",
        "\n",
        "X_train_imputed = pd.DataFrame(imputer.transform(X_train), columns=X_train.columns)\n",
        "X_test_imputed = pd.DataFrame(imputer.transform(X_test), columns=X_test.columns)\n",
        "\n",
        "# Model selection and fitting\n",
        "model_LR = LogisticRegression()\n",
        "model_DT = DecisionTreeClassifier()\n",
        "model_RF = RandomForestClassifier()\n",
        "\n",
        "model_LR.fit(X_train_imputed, y_train)\n",
        "model_DT.fit(X_train_imputed, y_train)\n",
        "model_RF.fit(X_train_imputed, y_train)\n",
        "\n",
        "# Model evaluation\n",
        "y_prediction_LR = model_LR.predict(X_test_imputed)\n",
        "y_prediction_DT = model_DT.predict(X_test_imputed)\n",
        "y_prediction_RF = model_RF.predict(X_test_imputed)\n",
        "\n",
        "accuracy_LR = accuracy_score(y_prediction_LR, y_test)\n",
        "accuracy_DT = accuracy_score(y_prediction_DT, y_test)\n",
        "accuracy_RF = accuracy_score(y_prediction_RF, y_test)\n",
        "\n",
        "print(\"Accuracy of Logistic Regression:\", accuracy_LR)\n",
        "print(\"Accuracy of Decision Tree:\", accuracy_DT)\n",
        "print(\"Accuracy of Random Forest:\", accuracy_RF)\n"
      ]
    },
    {
      "cell_type": "markdown",
      "source": [
        "Now i want to do some Hyperparameter tuning for RandomForest model."
      ],
      "metadata": {
        "id": "bGOl_A9zQqPr"
      }
    },
    {
      "cell_type": "code",
      "source": [
        "from sklearn.model_selection import GridSearchCV\n",
        "\n",
        "# Define the hyperparameters grid\n",
        "param_grid = {\n",
        "    'n_estimators': [100, 200, 300],  # Number of trees in the forest\n",
        "    'max_depth': [None, 10, 20, 30],    # Maximum depth of the tree\n",
        "    'min_samples_split': [2, 5, 10],    # Minimum number of samples required to split an internal node\n",
        "    'min_samples_leaf': [1, 2, 4]       # Minimum number of samples required to be at a leaf node\n",
        "}\n",
        "\n",
        "# Initialize the GridSearchCV object\n",
        "grid_search = GridSearchCV(estimator=RandomForestClassifier(random_state=42), param_grid=param_grid, cv=5, scoring='accuracy', n_jobs=-1)\n",
        "\n",
        "# Perform the grid search\n",
        "grid_search.fit(X_train, y_train)\n",
        "\n",
        "# Best parameters found\n",
        "best_params = grid_search.best_params_\n",
        "print(\"Best Parameters:\", best_params)\n",
        "\n",
        "# Best estimator\n",
        "best_rf_model = grid_search.best_estimator_\n",
        "\n",
        "# Evaluate the best model\n",
        "best_model_predictions = best_rf_model.predict(X_test)\n",
        "best_model_accuracy = accuracy_score(best_model_predictions, y_test)\n",
        "print(\"Accuracy of Best RandomForest:\", best_model_accuracy)\n"
      ],
      "metadata": {
        "id": "ymfeVGb-Q4wU"
      },
      "execution_count": null,
      "outputs": []
    }
  ]
}